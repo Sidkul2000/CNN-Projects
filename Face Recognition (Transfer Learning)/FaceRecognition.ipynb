{
 "cells": [
  {
   "cell_type": "code",
   "execution_count": 4,
   "metadata": {},
   "outputs": [],
   "source": [
    "import cv2\n",
    "import numpy as np"
   ]
  },
  {
   "cell_type": "code",
   "execution_count": 3,
   "metadata": {},
   "outputs": [
    {
     "name": "stdout",
     "output_type": "stream",
     "text": [
      "Task Completed!\n"
     ]
    }
   ],
   "source": [
    "face_classifier = cv2.CascadeClassifier('C:\\\\Users\\\\Siddhant\\\\Desktop\\\\Machine Learning Projects Home\\\\FACE RECOGNITION\\\\data\\\\haarcascade_frontalface_default.xml')\n",
    "\n",
    "def face_extraction(img):\n",
    "    faces = face_classifier.detectMultiScale(img, 1.3, 5)\n",
    "    \n",
    "    if faces is ():\n",
    "        return None\n",
    "    \n",
    "    for (x, y, w, h) in faces:\n",
    "        x = x - 10\n",
    "        y = y - 10\n",
    "        cropped_face = img[y:y+h+50, x:x+w+50]\n",
    "    return cropped_face\n",
    "    \n",
    "cam = cv2.VideoCapture(0)\n",
    "c = 0\n",
    "\n",
    "while True:\n",
    "    ret, frame = cam.read()\n",
    "    if face_extraction(frame) is not None:\n",
    "        c += 1\n",
    "        face = cv2.resize(face_extraction(frame), (400,400))\n",
    "        \n",
    "        file_path = r'C:\\Users\\Siddhant\\Desktop\\Machine Learning Projects Home\\FACE RECOGNITION\\Images1\\images' + str(c) + '.jpg'\n",
    "        cv2.imwrite(file_path, frame)\n",
    "        \n",
    "        cv2.putText(face, str(c), (50,50), cv2.FONT_HERSHEY_COMPLEX, 1, (0,0,255), 2)\n",
    "        cv2.imshow('Video', frame)\n",
    "    else:\n",
    "        print('Face not Found')\n",
    "        pass\n",
    "    if c == 100:\n",
    "        break\n",
    "        \n",
    "cam.release()\n",
    "cv2.destroyAllWindows()\n",
    "print('Task Completed!')"
   ]
  },
  {
   "cell_type": "code",
   "execution_count": 9,
   "metadata": {},
   "outputs": [],
   "source": [
    "from keras.preprocessing import image\n",
    "from keras.preprocessing.image import ImageDataGenerator\n",
    "from keras.layers import Dense, Flatten, Input, Lambda\n",
    "from keras.applications.vgg16 import VGG16\n",
    "from keras.applications.vgg16 import preprocess_input\n",
    "from keras.models import Model, Sequential\n",
    "from glob import glob\n",
    "import matplotlib.pyplot as plt"
   ]
  },
  {
   "cell_type": "code",
   "execution_count": 10,
   "metadata": {},
   "outputs": [
    {
     "name": "stdout",
     "output_type": "stream",
     "text": [
      "Downloading data from https://github.com/fchollet/deep-learning-models/releases/download/v0.1/vgg16_weights_tf_dim_ordering_tf_kernels_notop.h5\n",
      "58892288/58889256 [==============================] - 251s 4us/step\n",
      "Model: \"model_2\"\n",
      "_________________________________________________________________\n",
      "Layer (type)                 Output Shape              Param #   \n",
      "=================================================================\n",
      "input_2 (InputLayer)         (None, 224, 224, 3)       0         \n",
      "_________________________________________________________________\n",
      "block1_conv1 (Conv2D)        (None, 224, 224, 64)      1792      \n",
      "_________________________________________________________________\n",
      "block1_conv2 (Conv2D)        (None, 224, 224, 64)      36928     \n",
      "_________________________________________________________________\n",
      "block1_pool (MaxPooling2D)   (None, 112, 112, 64)      0         \n",
      "_________________________________________________________________\n",
      "block2_conv1 (Conv2D)        (None, 112, 112, 128)     73856     \n",
      "_________________________________________________________________\n",
      "block2_conv2 (Conv2D)        (None, 112, 112, 128)     147584    \n",
      "_________________________________________________________________\n",
      "block2_pool (MaxPooling2D)   (None, 56, 56, 128)       0         \n",
      "_________________________________________________________________\n",
      "block3_conv1 (Conv2D)        (None, 56, 56, 256)       295168    \n",
      "_________________________________________________________________\n",
      "block3_conv2 (Conv2D)        (None, 56, 56, 256)       590080    \n",
      "_________________________________________________________________\n",
      "block3_conv3 (Conv2D)        (None, 56, 56, 256)       590080    \n",
      "_________________________________________________________________\n",
      "block3_pool (MaxPooling2D)   (None, 28, 28, 256)       0         \n",
      "_________________________________________________________________\n",
      "block4_conv1 (Conv2D)        (None, 28, 28, 512)       1180160   \n",
      "_________________________________________________________________\n",
      "block4_conv2 (Conv2D)        (None, 28, 28, 512)       2359808   \n",
      "_________________________________________________________________\n",
      "block4_conv3 (Conv2D)        (None, 28, 28, 512)       2359808   \n",
      "_________________________________________________________________\n",
      "block4_pool (MaxPooling2D)   (None, 14, 14, 512)       0         \n",
      "_________________________________________________________________\n",
      "block5_conv1 (Conv2D)        (None, 14, 14, 512)       2359808   \n",
      "_________________________________________________________________\n",
      "block5_conv2 (Conv2D)        (None, 14, 14, 512)       2359808   \n",
      "_________________________________________________________________\n",
      "block5_conv3 (Conv2D)        (None, 14, 14, 512)       2359808   \n",
      "_________________________________________________________________\n",
      "block5_pool (MaxPooling2D)   (None, 7, 7, 512)         0         \n",
      "_________________________________________________________________\n",
      "flatten_2 (Flatten)          (None, 25088)             0         \n",
      "_________________________________________________________________\n",
      "dense_2 (Dense)              (None, 3)                 75267     \n",
      "=================================================================\n",
      "Total params: 14,789,955\n",
      "Trainable params: 75,267\n",
      "Non-trainable params: 14,714,688\n",
      "_________________________________________________________________\n"
     ]
    }
   ],
   "source": [
    "IMG_SIZE = [224, 224]\n",
    "train_path = r'C:\\Users\\Siddhant\\Desktop\\Machine Learning Projects Home\\FACE RECOGNITION\\Datasets\\Train'\n",
    "test_path = r'C:\\Users\\Siddhant\\Desktop\\Machine Learning Projects Home\\FACE RECOGNITION\\Datasets\\Test'\n",
    "\n",
    "vgg = VGG16(input_shape = IMG_SIZE + [3], weights = 'imagenet', include_top = False)\n",
    "\n",
    "for i in vgg.layers:\n",
    "    i.trainable = False\n",
    "    \n",
    "X = Flatten()(vgg.output)\n",
    "X = Dense(3, activation = 'softmax')(X)\n",
    "\n",
    "model = Model(inputs = vgg.input, outputs = X)\n",
    "\n",
    "model.summary()"
   ]
  },
  {
   "cell_type": "code",
   "execution_count": 11,
   "metadata": {},
   "outputs": [
    {
     "name": "stdout",
     "output_type": "stream",
     "text": [
      "Found 593 images belonging to 3 classes.\n",
      "Found 94 images belonging to 3 classes.\n",
      "Epoch 1/5\n",
      "19/19 [==============================] - 353s 19s/step - loss: 0.3377 - accuracy: 0.8803 - val_loss: 0.0065 - val_accuracy: 1.0000\n",
      "Epoch 2/5\n",
      "19/19 [==============================] - 337s 18s/step - loss: 0.0048 - accuracy: 0.9983 - val_loss: 1.1454e-04 - val_accuracy: 1.0000\n",
      "Epoch 3/5\n",
      "19/19 [==============================] - 370s 19s/step - loss: 3.1828e-04 - accuracy: 1.0000 - val_loss: 1.5737e-04 - val_accuracy: 1.0000\n",
      "Epoch 4/5\n",
      "19/19 [==============================] - ETA: 15s - loss: 4.1701e-04 - accuracy: 1.000 - 350s 18s/step - loss: 4.1206e-04 - accuracy: 1.0000 - val_loss: 7.1065e-05 - val_accuracy: 1.0000\n",
      "Epoch 5/5\n",
      "19/19 [==============================] - 349s 18s/step - loss: 1.9887e-04 - accuracy: 1.0000 - val_loss: 5.2588e-05 - val_accuracy: 1.0000\n"
     ]
    }
   ],
   "source": [
    "model.compile(\n",
    "    loss = 'categorical_crossentropy', \n",
    "    optimizer = 'adam',\n",
    "    metrics = ['accuracy'])\n",
    "\n",
    "train_datagen = ImageDataGenerator(rescale = 1./255,\n",
    "                                  shear_range = 0.2,\n",
    "                                  zoom_range = 0.2,\n",
    "                                  horizontal_flip = True)\n",
    "\n",
    "test_datagen = ImageDataGenerator(rescale = 1./255)\n",
    "\n",
    "train_set = train_datagen.flow_from_directory(train_path,\n",
    "                                             target_size = (224,224),\n",
    "                                             batch_size = 32,\n",
    "                                             class_mode = 'categorical')\n",
    "\n",
    "test_set = test_datagen.flow_from_directory(test_path,\n",
    "                                           target_size = (224, 224),\n",
    "                                           batch_size = 32,\n",
    "                                           class_mode = 'categorical')\n",
    "\n",
    "r = model.fit_generator(train_set,\n",
    "                       validation_data = test_set,\n",
    "                       epochs = 5,\n",
    "                       steps_per_epoch = len(train_set),\n",
    "                       validation_steps = len(test_set))\n"
   ]
  },
  {
   "cell_type": "code",
   "execution_count": 13,
   "metadata": {},
   "outputs": [
    {
     "data": {
      "image/png": "[encoded data removed]",
      "text/plain": [
       "<Figure size 432x288 with 1 Axes>"
      ]
     },
     "metadata": {
      "needs_background": "light"
     },
     "output_type": "display_data"
    },
    {
     "data": {
      "image/png": "[encoded data removed]",
      "text/plain": [
       "<Figure size 432x288 with 1 Axes>"
      ]
     },
     "metadata": {
      "needs_background": "light"
     },
     "output_type": "display_data"
    },
    {
     "data": {
      "text/plain": [
       "<Figure size 432x288 with 0 Axes>"
      ]
     },
     "metadata": {},
     "output_type": "display_data"
    }
   ],
   "source": [
    "plt.plot(r.history['loss'], label='train loss')\n",
    "plt.plot(r.history['val_loss'], label='val loss')\n",
    "plt.legend()\n",
    "plt.show()\n",
    "plt.savefig('LossVal_loss')\n",
    "\n",
    "plt.plot(r.history['accuracy'], label='train acc')\n",
    "plt.plot(r.history['val_accuracy'], label='val acc')\n",
    "plt.legend()\n",
    "plt.show()\n",
    "plt.savefig('AccVal_acc')\n",
    "\n",
    "from keras.models import load_model\n",
    "\n",
    "model.save('facefeatures_new_model.h5')"
   ]
  },
  {
   "cell_type": "code",
   "execution_count": 16,
   "metadata": {},
   "outputs": [],
   "source": [
    "from PIL import Image\n",
    "import base64\n",
    "import json\n",
    "from io import BytesIO\n",
    "import random\n",
    "\n",
    "model = load_model('facefeatures_new_model.h5')\n",
    "\n",
    "def face_extractor(img):\n",
    "\n",
    "    faces = face_classifier.detectMultiScale(img, 1.3, 5)\n",
    "    \n",
    "    if faces is ():\n",
    "        return None\n",
    "    \n",
    "    for (x,y,w,h) in faces:\n",
    "        cv2.rectangle(img,(x,y),(x+w,y+h),(0,255,255),2)\n",
    "        cropped_face = img[y:y+h, x:x+w]\n",
    "\n",
    "    return cropped_face\n",
    "\n",
    "\n",
    "video = cv2.VideoCapture(0)\n",
    "while True:\n",
    "    _, frame = video.read()\n",
    "    \n",
    "    face = face_extractor(frame)\n",
    "    if type(face) is np.ndarray:\n",
    "        face = cv2.resize(face, (224,224))\n",
    "        im = Image.fromarray(face, 'RGB')\n",
    "        img_array = np.array(im)\n",
    "        img_array = np.expand_dims(img_array, axis = 0)\n",
    "        pred = model.predict(img_array)\n",
    "        \n",
    "        name = 'None matching'\n",
    "        \n",
    "        if pred[0][0]>0.6:\n",
    "            name = 'Medha'\n",
    "        elif pred[0][1]>0.6:\n",
    "            name = 'Nitin'\n",
    "        elif pred[0][2] > 0.6:\n",
    "            name = 'Siddhant'\n",
    "        cv2.putText(frame, name, (50,50), cv2.FONT_HERSHEY_COMPLEX, 1, (0,255,0), 2)\n",
    "    else:\n",
    "        cv2.putText(frame,\"No face found\", (50, 50), cv2.FONT_HERSHEY_COMPLEX, 1, (0,255,0), 2)\n",
    "    \n",
    "    cv2.imshow('Video', frame)\n",
    "    if cv2.waitKey(1) & 0xFF == ord('q'):\n",
    "        break\n",
    "\n",
    "video.release()\n",
    "cv2.destroyAllWindows()"
   ]
  },
  {
   "cell_type": "code",
   "execution_count": 40,
   "metadata": {},
   "outputs": [],
   "source": []
  }
 ],
 "metadata": {
  "kernelspec": {
   "display_name": "Python 3",
   "language": "python",
   "name": "python3"
  },
  "language_info": {
   "codemirror_mode": {
    "name": "ipython",
    "version": 3
   },
   "file_extension": ".py",
   "mimetype": "text/x-python",
   "name": "python",
   "nbconvert_exporter": "python",
   "pygments_lexer": "ipython3",
   "version": "3.7.6"
  }
 },
 "nbformat": 4,
 "nbformat_minor": 4
}
