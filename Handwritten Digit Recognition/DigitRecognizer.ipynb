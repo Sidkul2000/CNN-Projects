{
  "nbformat": 4,
  "nbformat_minor": 0,
  "metadata": {
    "colab": {
      "name": "DigitRecognizer.ipynb",
      "provenance": [],
      "collapsed_sections": []
    },
    "kernelspec": {
      "name": "python3",
      "display_name": "Python 3"
    }
  },
  "cells": [
    {
      "cell_type": "code",
      "metadata": {
        "id": "EtIQcg-yNKBi",
        "colab_type": "code",
        "colab": {}
      },
      "source": [
        "import numpy as np\n",
        "import pandas as pd\n",
        "import matplotlib.pyplot as plt\n",
        "import matplotlib.image as mpimg\n",
        "import seaborn as sns\n",
        "import itertools\n",
        "\n",
        "np.random.seed(2)\n",
        "\n",
        "from sklearn.model_selection import train_test_split\n",
        "\n",
        "from keras.utils.np_utils import to_categorical\n",
        "from keras.models import Sequential\n",
        "from keras.layers import Dense, Dropout, MaxPool2D, Conv2D, Flatten\n",
        "from keras.optimizers import RMSprop\n",
        "from keras.preprocessing.image import ImageDataGenerator\n",
        "from keras.callbacks import ReduceLROnPlateau\n",
        "from keras.callbacks import EarlyStopping\n",
        "\n",
        "sns.set(style='white', context='notebook', palette='deep')"
      ],
      "execution_count": 0,
      "outputs": []
    },
    {
      "cell_type": "code",
      "metadata": {
        "id": "qm6YijU9PJ2q",
        "colab_type": "code",
        "colab": {
          "base_uri": "https://localhost:8080/",
          "height": 302
        },
        "outputId": "fcb6bfbe-15b4-42ee-aecf-74ec05efe871"
      },
      "source": [
        "test = pd.read_csv(\"test.csv\")\n",
        "train = pd.read_csv(\"train.csv\")\n",
        "\n",
        "Y_train = train['label']\n",
        "X_train = train.drop(labels=['label'], axis = 1)\n",
        "\n",
        "del train \n",
        "\n",
        "sns.countplot(Y_train)"
      ],
      "execution_count": 89,
      "outputs": [
        {
          "output_type": "execute_result",
          "data": {
            "text/plain": [
              "<matplotlib.axes._subplots.AxesSubplot at 0x7fe2571f75c0>"
            ]
          },
          "metadata": {
            "tags": []
          },
          "execution_count": 89
        },
        {
          "output_type": "display_data",
          "data": {
            "image/png": "[encoded data removed]",
            "text/plain": [
              "<Figure size 432x288 with 1 Axes>"
            ]
          },
          "metadata": {
            "tags": []
          }
        }
      ]
    },
    {
      "cell_type": "code",
      "metadata": {
        "id": "wDUDphUoQVjw",
        "colab_type": "code",
        "colab": {}
      },
      "source": [
        "X_train = X_train / 255.\n",
        "test = test / 255.\n",
        "\n",
        "X_train = X_train.values.reshape(-1, 28, 28, 1)\n",
        "test = test.values.reshape(-1, 28, 28, 1)\n",
        "\n",
        "Y_train = to_categorical(Y_train, num_classes = 10)\n",
        "\n",
        "random_seed = 2"
      ],
      "execution_count": 0,
      "outputs": []
    },
    {
      "cell_type": "code",
      "metadata": {
        "id": "U6Gmni-ARz_i",
        "colab_type": "code",
        "colab": {}
      },
      "source": [
        "X_train, X_val, Y_train, Y_val = train_test_split(X_train, Y_train, test_size = 0.1, random_state = random_seed)"
      ],
      "execution_count": 0,
      "outputs": []
    },
    {
      "cell_type": "code",
      "metadata": {
        "id": "DeuN0TZ-Slfy",
        "colab_type": "code",
        "colab": {
          "base_uri": "https://localhost:8080/",
          "height": 285
        },
        "outputId": "c3b2da27-deb3-4d81-d3d3-430b3b77f085"
      },
      "source": [
        "plt.imshow(X_train[76][:,:,0])"
      ],
      "execution_count": 92,
      "outputs": [
        {
          "output_type": "execute_result",
          "data": {
            "text/plain": [
              "<matplotlib.image.AxesImage at 0x7fe2571b9eb8>"
            ]
          },
          "metadata": {
            "tags": []
          },
          "execution_count": 92
        },
        {
          "output_type": "display_data",
          "data": {
            "image/png": "[encoded data removed]",
            "text/plain": [
              "<Figure size 432x288 with 1 Axes>"
            ]
          },
          "metadata": {
            "tags": []
          }
        }
      ]
    },
    {
      "cell_type": "code",
      "metadata": {
        "id": "jCFGp6OITHZr",
        "colab_type": "code",
        "colab": {
          "base_uri": "https://localhost:8080/",
          "height": 285
        },
        "outputId": "026f1fc6-15b4-4bd1-d1f3-2517e6fd5f11"
      },
      "source": [
        "plt.imshow(X_val[1][:,:,0])"
      ],
      "execution_count": 93,
      "outputs": [
        {
          "output_type": "execute_result",
          "data": {
            "text/plain": [
              "<matplotlib.image.AxesImage at 0x7fe25718c6d8>"
            ]
          },
          "metadata": {
            "tags": []
          },
          "execution_count": 93
        },
        {
          "output_type": "display_data",
          "data": {
            "image/png": "[encoded data removed]",
            "text/plain": [
              "<Figure size 432x288 with 1 Axes>"
            ]
          },
          "metadata": {
            "tags": []
          }
        }
      ]
    },
    {
      "cell_type": "code",
      "metadata": {
        "id": "odj2u4GNTqbZ",
        "colab_type": "code",
        "colab": {}
      },
      "source": [
        "model = Sequential([\n",
        "                    Conv2D(32, (5,5), padding = 'same', activation = 'relu', input_shape = (28,28,1)),\n",
        "                    Conv2D(32, (5,5), padding = 'same', activation = 'relu'),\n",
        "                    MaxPool2D(pool_size = (2,2)),\n",
        "                    Dropout(0.25),\n",
        "                    Conv2D(64, (3,3), padding = 'same', activation = 'relu'),\n",
        "                    Conv2D(64, (3,3), padding = 'same', activation = 'relu'),\n",
        "                    MaxPool2D(pool_size = (2,2), strides = (2,2)),\n",
        "                    Dropout(0.25),\n",
        "                    Flatten(),\n",
        "                    Dense(256, activation = 'relu'),\n",
        "                    Dropout(0.5),\n",
        "                    Dense(10, activation = 'softmax')\n",
        "    ])"
      ],
      "execution_count": 0,
      "outputs": []
    },
    {
      "cell_type": "code",
      "metadata": {
        "id": "u9p7kqNUW2DV",
        "colab_type": "code",
        "colab": {}
      },
      "source": [
        "opt = RMSprop(lr=0.001, rho = 0.9, epsilon = 1e-08, decay = 0.0)\n",
        "\n",
        "model.compile(optimizer = opt, loss = 'categorical_crossentropy', metrics = ['accuracy'])"
      ],
      "execution_count": 0,
      "outputs": []
    },
    {
      "cell_type": "code",
      "metadata": {
        "id": "trbueo9XX8fP",
        "colab_type": "code",
        "colab": {}
      },
      "source": [
        "learning_rate_reduction = ReduceLROnPlateau(monitor = 'val_accuracy', \n",
        "                                            factor = 0.5,\n",
        "                                            patience = 3,\n",
        "                                            verbose = 1, \n",
        "                                            min_lr = 0.00001)\n"
      ],
      "execution_count": 0,
      "outputs": []
    },
    {
      "cell_type": "code",
      "metadata": {
        "id": "5ywKYA8cZPa_",
        "colab_type": "code",
        "colab": {
          "base_uri": "https://localhost:8080/",
          "height": 84
        },
        "outputId": "052b5563-9543-4746-97bc-9f5ee532c345"
      },
      "source": [
        "epochs = 2\n",
        "batch_size = 86\n",
        "step = X_train.shape[0] // batch_size\n",
        "\n",
        "datagen = ImageDataGenerator(rotation_range=10,\n",
        "                             width_shift_range = 0.1,\n",
        "                             height_shift_range = 0.1,\n",
        "                             zoom_range = 0.1)\n",
        "datagen.fit(X_train)\n",
        "\n",
        "histoy = model.fit_generator(datagen.flow(X_train, Y_train, batch_size = batch_size),\n",
        "                             epochs = epochs,\n",
        "                             validation_data = (X_val, Y_val),\n",
        "                             steps_per_epoch = step,\n",
        "                             verbose = 2,\n",
        "                             callbacks = [learning_rate_reduction]\n",
        "                             )"
      ],
      "execution_count": 97,
      "outputs": [
        {
          "output_type": "stream",
          "text": [
            "Epoch 1/2\n",
            " - 272s - loss: 0.4177 - accuracy: 0.8642 - val_loss: 0.0734 - val_accuracy: 0.9745\n",
            "Epoch 2/2\n",
            " - 267s - loss: 0.1267 - accuracy: 0.9622 - val_loss: 0.0416 - val_accuracy: 0.9879\n"
          ],
          "name": "stdout"
        }
      ]
    },
    {
      "cell_type": "code",
      "metadata": {
        "id": "P2KJ_k77wNEM",
        "colab_type": "code",
        "colab": {}
      },
      "source": [
        "results = model.predict(test)\n",
        "results = np.argmax(results, axis =1)\n",
        "results = pd.Series(results, name = 'Label')\n",
        "\n",
        "submission = pd.concat([pd.Series(range(1,28001),name = \"ImageId\"),results],axis = 1)\n",
        "submission.to_csv(\"cnn_mnist_datagen.csv\", index=False)"
      ],
      "execution_count": 0,
      "outputs": []
    },
    {
      "cell_type": "code",
      "metadata": {
        "id": "2938qx8G75aP",
        "colab_type": "code",
        "colab": {}
      },
      "source": [
        ""
      ],
      "execution_count": 0,
      "outputs": []
    }
  ]
}